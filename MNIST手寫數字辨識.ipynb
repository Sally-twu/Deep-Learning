{
 "cells": [
  {
   "cell_type": "code",
   "execution_count": 1,
   "id": "76745311",
   "metadata": {},
   "outputs": [],
   "source": [
    "import tensorflow as tf\n",
    "mnist = tf.keras.datasets.mnist"
   ]
  },
  {
   "cell_type": "markdown",
   "id": "82353ccc",
   "metadata": {},
   "source": [
    "MNIST手寫阿拉伯數字訓練資料\n",
    "http://yann.lecun.com/exdb/mnist/\n",
    "注意其中一個訓練方式: 40PCA + quadratic classifier"
   ]
  },
  {
   "cell_type": "code",
   "execution_count": 2,
   "id": "2fb31411",
   "metadata": {},
   "outputs": [],
   "source": [
    "# 匯入 MNIST 手寫阿拉伯數字 訓練資料\n",
    "(x_train, y_train),(x_test, y_test) = mnist.load_data()\n",
    "#60,000筆訓練集，10,000筆測試集\n",
    "# 特徵縮放，使用常態化(Normalization)，公式 = (x - min) / (max - min)\n",
    "# 顏色範圍：0~255，所以，公式簡化為 x / 255\n",
    "x_train, x_test = x_train / 255.0, x_test / 255.0"
   ]
  },
  {
   "cell_type": "code",
   "execution_count": 3,
   "id": "c25bb566",
   "metadata": {},
   "outputs": [],
   "source": [
    "# 建立模型\n",
    "\"\"\"\n",
    "Flatten Layer：將寬、高各28個像素的圖轉成一維陣列 28 x 28 = 784個特徵。\n",
    "Dense Layer：input為784個特徵，output 為128個神經元，即128條迴歸線。\n",
    "Dropout Layer：在訓練週期隨機丟棄20%的神經元，藉以矯正過度擬合的現象。\n",
    "最後一個 Dense Layer：輸出10個神經元，透過 softmax activation function，轉成機率，即0~9的預測機率，選擇最大機率者為預測值\n",
    "\"\"\"\n",
    "model = tf.keras.models.Sequential([\n",
    "  tf.keras.layers.Flatten(input_shape=(28, 28)),\n",
    "  tf.keras.layers.Dense(128, activation='relu'),\n",
    "  tf.keras.layers.Dropout(0.2),\n",
    "  tf.keras.layers.Dense(10, activation='softmax')\n",
    "])"
   ]
  },
  {
   "cell_type": "code",
   "execution_count": 4,
   "id": "a032376f",
   "metadata": {},
   "outputs": [],
   "source": [
    "# 設定優化器(optimizer)、損失函數(loss)、效能衡量指標(metrics)的類別\n",
    "model.compile(optimizer='adam',\n",
    "              loss='sparse_categorical_crossentropy',\n",
    "              metrics=['accuracy'])"
   ]
  },
  {
   "cell_type": "code",
   "execution_count": 5,
   "id": "89b8a15a",
   "metadata": {},
   "outputs": [
    {
     "name": "stdout",
     "output_type": "stream",
     "text": [
      "Train on 60000 samples\n",
      "Epoch 1/5\n",
      "60000/60000 [==============================] - 3s 56us/sample - loss: 0.2947 - accuracy: 0.9140\n",
      "Epoch 2/5\n",
      "60000/60000 [==============================] - 3s 48us/sample - loss: 0.1414 - accuracy: 0.9585\n",
      "Epoch 3/5\n",
      "60000/60000 [==============================] - 3s 43us/sample - loss: 0.1090 - accuracy: 0.9666\n",
      "Epoch 4/5\n",
      "60000/60000 [==============================] - 3s 44us/sample - loss: 0.0852 - accuracy: 0.9739\n",
      "Epoch 5/5\n",
      "60000/60000 [==============================] - 3s 47us/sample - loss: 0.0729 - accuracy: 0.9769\n",
      "10000/10000 [==============================] - 0s 40us/sample - loss: 0.0722 - accuracy: 0.9779\n"
     ]
    },
    {
     "data": {
      "text/plain": [
       "[0.07218672580309213, 0.9779]"
      ]
     },
     "execution_count": 5,
     "metadata": {},
     "output_type": "execute_result"
    }
   ],
   "source": [
    "# 模型訓練\n",
    "model.fit(x_train, y_train, epochs=5)\n",
    "# 模型評估，打分數\n",
    "model.evaluate(x_test, y_test)"
   ]
  },
  {
   "cell_type": "markdown",
   "id": "a3316ea3",
   "metadata": {},
   "source": [
    "1.顯示圖片資料"
   ]
  },
  {
   "cell_type": "code",
   "execution_count": 6,
   "id": "71525598",
   "metadata": {},
   "outputs": [
    {
     "data": {
      "text/plain": [
       "['[0. 0. 0. 0. 0. 0. 0. 0. 0. 0. 0. 0. 0. 0. 0. 0. 0. 0. 0. 0. 0. 0. 0. 0.\\n 0. 0. 0. 0.]',\n",
       " '[0. 0. 0. 0. 0. 0. 0. 0. 0. 0. 0. 0. 0. 0. 0. 0. 0. 0. 0. 0. 0. 0. 0. 0.\\n 0. 0. 0. 0.]',\n",
       " '[0. 0. 0. 0. 0. 0. 0. 0. 0. 0. 0. 0. 0. 0. 0. 0. 0. 0. 0. 0. 0. 0. 0. 0.\\n 0. 0. 0. 0.]',\n",
       " '[0. 0. 0. 0. 0. 0. 0. 0. 0. 0. 0. 0. 0. 0. 0. 0. 0. 0. 0. 0. 0. 0. 0. 0.\\n 0. 0. 0. 0.]',\n",
       " '[0. 0. 0. 0. 0. 0. 0. 0. 0. 0. 0. 0. 0. 0. 0. 0. 0. 0. 0. 0. 0. 0. 0. 0.\\n 0. 0. 0. 0.]',\n",
       " '[0. 0. 0. 0. 0. 0. 0. 0. 0. 0. 0. 0. 1. 1. 1. 1. 1. 1. 1. 1. 1. 1. 1. 1.\\n 0. 0. 0. 0.]',\n",
       " '[0. 0. 0. 0. 0. 0. 0. 0. 1. 1. 1. 1. 1. 1. 1. 1. 1. 1. 1. 1. 1. 1. 1. 1.\\n 0. 0. 0. 0.]',\n",
       " '[0. 0. 0. 0. 0. 0. 0. 1. 1. 1. 1. 1. 1. 1. 1. 1. 1. 1. 1. 1. 1. 1. 1. 0.\\n 0. 0. 0. 0.]',\n",
       " '[0. 0. 0. 0. 0. 0. 0. 1. 1. 1. 1. 1. 1. 1. 1. 1. 1. 1. 0. 0. 0. 0. 0. 0.\\n 0. 0. 0. 0.]',\n",
       " '[0. 0. 0. 0. 0. 0. 0. 0. 1. 1. 1. 1. 1. 1. 1. 0. 1. 1. 0. 0. 0. 0. 0. 0.\\n 0. 0. 0. 0.]',\n",
       " '[0. 0. 0. 0. 0. 0. 0. 0. 0. 1. 1. 1. 1. 1. 0. 0. 0. 0. 0. 0. 0. 0. 0. 0.\\n 0. 0. 0. 0.]',\n",
       " '[0. 0. 0. 0. 0. 0. 0. 0. 0. 0. 0. 1. 1. 1. 1. 0. 0. 0. 0. 0. 0. 0. 0. 0.\\n 0. 0. 0. 0.]',\n",
       " '[0. 0. 0. 0. 0. 0. 0. 0. 0. 0. 0. 1. 1. 1. 1. 0. 0. 0. 0. 0. 0. 0. 0. 0.\\n 0. 0. 0. 0.]',\n",
       " '[0. 0. 0. 0. 0. 0. 0. 0. 0. 0. 0. 0. 1. 1. 1. 1. 1. 1. 0. 0. 0. 0. 0. 0.\\n 0. 0. 0. 0.]',\n",
       " '[0. 0. 0. 0. 0. 0. 0. 0. 0. 0. 0. 0. 0. 1. 1. 1. 1. 1. 1. 0. 0. 0. 0. 0.\\n 0. 0. 0. 0.]',\n",
       " '[0. 0. 0. 0. 0. 0. 0. 0. 0. 0. 0. 0. 0. 0. 1. 1. 1. 1. 1. 1. 0. 0. 0. 0.\\n 0. 0. 0. 0.]',\n",
       " '[0. 0. 0. 0. 0. 0. 0. 0. 0. 0. 0. 0. 0. 0. 0. 1. 1. 1. 1. 1. 0. 0. 0. 0.\\n 0. 0. 0. 0.]',\n",
       " '[0. 0. 0. 0. 0. 0. 0. 0. 0. 0. 0. 0. 0. 0. 0. 0. 0. 1. 1. 1. 1. 0. 0. 0.\\n 0. 0. 0. 0.]',\n",
       " '[0. 0. 0. 0. 0. 0. 0. 0. 0. 0. 0. 0. 0. 0. 1. 1. 1. 1. 1. 1. 1. 0. 0. 0.\\n 0. 0. 0. 0.]',\n",
       " '[0. 0. 0. 0. 0. 0. 0. 0. 0. 0. 0. 0. 1. 1. 1. 1. 1. 1. 1. 1. 0. 0. 0. 0.\\n 0. 0. 0. 0.]',\n",
       " '[0. 0. 0. 0. 0. 0. 0. 0. 0. 0. 1. 1. 1. 1. 1. 1. 1. 1. 1. 0. 0. 0. 0. 0.\\n 0. 0. 0. 0.]',\n",
       " '[0. 0. 0. 0. 0. 0. 0. 0. 1. 1. 1. 1. 1. 1. 1. 1. 1. 1. 0. 0. 0. 0. 0. 0.\\n 0. 0. 0. 0.]',\n",
       " '[0. 0. 0. 0. 0. 0. 1. 1. 1. 1. 1. 1. 1. 1. 1. 1. 0. 0. 0. 0. 0. 0. 0. 0.\\n 0. 0. 0. 0.]',\n",
       " '[0. 0. 0. 0. 1. 1. 1. 1. 1. 1. 1. 1. 1. 1. 0. 0. 0. 0. 0. 0. 0. 0. 0. 0.\\n 0. 0. 0. 0.]',\n",
       " '[0. 0. 0. 0. 1. 1. 1. 1. 1. 1. 1. 1. 0. 0. 0. 0. 0. 0. 0. 0. 0. 0. 0. 0.\\n 0. 0. 0. 0.]',\n",
       " '[0. 0. 0. 0. 0. 0. 0. 0. 0. 0. 0. 0. 0. 0. 0. 0. 0. 0. 0. 0. 0. 0. 0. 0.\\n 0. 0. 0. 0.]',\n",
       " '[0. 0. 0. 0. 0. 0. 0. 0. 0. 0. 0. 0. 0. 0. 0. 0. 0. 0. 0. 0. 0. 0. 0. 0.\\n 0. 0. 0. 0.]',\n",
       " '[0. 0. 0. 0. 0. 0. 0. 0. 0. 0. 0. 0. 0. 0. 0. 0. 0. 0. 0. 0. 0. 0. 0. 0.\\n 0. 0. 0. 0.]']"
      ]
     },
     "execution_count": 6,
     "metadata": {},
     "output_type": "execute_result"
    }
   ],
   "source": [
    "# 將非0的數字轉為1，顯示第1張圖片\n",
    "data = x_train[0].copy() #28條array每條28column且非零部分為小數\n",
    "data[data>0]=1\n",
    "# 將轉換後二維內容顯示出來，隱約可以看出數字為 5\n",
    "text_image=[]\n",
    "for i in range(data.shape[0]):\n",
    "    text_image.append(''.join(str(data[i])))\n",
    "text_image #顯示5"
   ]
  },
  {
   "cell_type": "code",
   "execution_count": 7,
   "id": "87e63364",
   "metadata": {},
   "outputs": [
    {
     "name": "stdout",
     "output_type": "stream",
     "text": [
      "ERROR! Session/line number was not unique in database. History logging moved to new session 225\n"
     ]
    },
    {
     "data": {
      "text/plain": [
       "<matplotlib.image.AxesImage at 0x295aadcdf88>"
      ]
     },
     "execution_count": 7,
     "metadata": {},
     "output_type": "execute_result"
    },
    {
     "data": {
      "image/png": "[encoded data removed]",
      "text/plain": [
       "<Figure size 432x288 with 1 Axes>"
      ]
     },
     "metadata": {
      "needs_background": "light"
     },
     "output_type": "display_data"
    }
   ],
   "source": [
    "import matplotlib.pyplot as plt\n",
    "x0=x_train[0,:]\n",
    "plt.imshow(x0.reshape(28,28))"
   ]
  },
  {
   "cell_type": "markdown",
   "id": "509d367c",
   "metadata": {},
   "source": [
    "加入驗證資料"
   ]
  },
  {
   "cell_type": "code",
   "execution_count": 8,
   "id": "4f6ea1ed",
   "metadata": {},
   "outputs": [
    {
     "name": "stdout",
     "output_type": "stream",
     "text": [
      "Train on 48000 samples, validate on 12000 samples\n",
      "Epoch 1/5\n",
      "48000/48000 [==============================] - 3s 61us/sample - loss: 0.0643 - accuracy: 0.9798 - val_loss: 0.0415 - val_accuracy: 0.9861\n",
      "Epoch 2/5\n",
      "48000/48000 [==============================] - 3s 57us/sample - loss: 0.0569 - accuracy: 0.9815 - val_loss: 0.0451 - val_accuracy: 0.9858\n",
      "Epoch 3/5\n",
      "48000/48000 [==============================] - 3s 57us/sample - loss: 0.0503 - accuracy: 0.9831 - val_loss: 0.0503 - val_accuracy: 0.9837\n",
      "Epoch 4/5\n",
      "48000/48000 [==============================] - 3s 54us/sample - loss: 0.0460 - accuracy: 0.9842 - val_loss: 0.0498 - val_accuracy: 0.9822\n",
      "Epoch 5/5\n",
      "48000/48000 [==============================] - 3s 59us/sample - loss: 0.0425 - accuracy: 0.9861 - val_loss: 0.0438 - val_accuracy: 0.9867\n"
     ]
    }
   ],
   "source": [
    "# 加入驗證集調正模型內部的參數(hyperparameter)，驗證多次後選出驗證成果最好的模型跟其他人比(進入test data)\n",
    "history = model.fit(x_train, y_train, epochs=5, validation_split=0.2)"
   ]
  },
  {
   "cell_type": "code",
   "execution_count": 9,
   "id": "30d6d8b2",
   "metadata": {},
   "outputs": [
    {
     "data": {
      "text/plain": [
       "[<matplotlib.lines.Line2D at 0x295c58e2948>]"
      ]
     },
     "execution_count": 9,
     "metadata": {},
     "output_type": "execute_result"
    },
    {
     "data": {
      "image/png": "[encoded data removed]",
      "text/plain": [
       "<Figure size 432x288 with 1 Axes>"
      ]
     },
     "metadata": {
      "needs_background": "light"
     },
     "output_type": "display_data"
    }
   ],
   "source": [
    "# 對訓練過程的準確度繪圖\n",
    "import matplotlib.pyplot as plt\n",
    "plt.plot(history.history['accuracy'], 'r')\n",
    "plt.plot(history.history['val_accuracy'], 'g')\n",
    "# Q: 這樣的趨勢怎麼解釋?"
   ]
  },
  {
   "cell_type": "code",
   "execution_count": 10,
   "id": "77679e51",
   "metadata": {},
   "outputs": [
    {
     "data": {
      "text/plain": [
       "[<matplotlib.lines.Line2D at 0x295c5bd3708>]"
      ]
     },
     "execution_count": 10,
     "metadata": {},
     "output_type": "execute_result"
    },
    {
     "data": {
      "image/png": "[encoded data removed]",
      "text/plain": [
       "<Figure size 432x288 with 1 Axes>"
      ]
     },
     "metadata": {
      "needs_background": "light"
     },
     "output_type": "display_data"
    }
   ],
   "source": [
    "# 對訓練過程的損失函數繪圖\n",
    "plt.plot(history.history['loss'], 'r')\n",
    "plt.plot(history.history['val_loss'], 'g')"
   ]
  },
  {
   "cell_type": "code",
   "execution_count": 11,
   "id": "c2459502",
   "metadata": {},
   "outputs": [
    {
     "name": "stdout",
     "output_type": "stream",
     "text": [
      "prediction: [9 9 5 5 1 5 6 0 3 4 4 6 5 4 6 5 4 5 1 4 4 7 2 3 2 7 1 8 1 8 1 8 5 0 8 9 2\n",
      " 5 0 1 1 1 0 9 0 3 1 6 4 2]\n",
      "actual    : [9 9 5 5 1 5 6 0 3 4 4 6 5 4 6 5 4 5 1 4 4 7 2 3 2 7 1 8 1 8 1 8 5 0 8 9 2\n",
      " 5 0 1 1 1 0 9 0 3 1 6 4 2]\n"
     ]
    },
    {
     "data": {
      "image/png": "[encoded data removed]",
      "text/plain": [
       "<Figure size 432x288 with 1 Axes>"
      ]
     },
     "metadata": {
      "needs_background": "light"
     },
     "output_type": "display_data"
    }
   ],
   "source": [
    "# 實際預測 20 筆\n",
    "import numpy as np\n",
    "predictions = np.argmax(model.predict(x_test), axis=-1)\n",
    "# get prediction result\n",
    "print('prediction:', predictions[150:200])\n",
    "print('actual    :', y_test[150:200])\n",
    "# 顯示錯誤的(第151張圖)資料圖像\n",
    "x1 = x_test[151,:]\n",
    "plt.imshow(x1.reshape(28,28))\n",
    "plt.show() \n",
    "#實際上是9但預測為8"
   ]
  },
  {
   "cell_type": "markdown",
   "id": "2fabefdc",
   "metadata": {},
   "source": [
    "使用小畫家，寫0~9，實際測試看看"
   ]
  },
  {
   "cell_type": "code",
   "execution_count": 16,
   "id": "ee757667",
   "metadata": {},
   "outputs": [
    {
     "name": "stdout",
     "output_type": "stream",
     "text": [
      "[5]\n"
     ]
    }
   ],
   "source": [
    "from skimage import io\n",
    "from skimage.transform import resize\n",
    "import numpy as np\n",
    "\n",
    "uploaded_file = './digit8.png'\n",
    "image1 = io.imread(uploaded_file, as_gray=True)\n",
    "#image1 = Image.open(uploaded_file).convert('LA')\n",
    "image_resized = resize(image1, (28, 28), anti_aliasing=True)    \n",
    "X1 = image_resized.reshape(1,28, 28) #/ 255\n",
    "# 反轉顏色\n",
    "# 顏色0為白色，與RGB顏色不同，(0,0,0) 為黑色。\n",
    "X1 = np.abs(1-X1)\n",
    "predictions = model.predict_classes(X1)\n",
    "print(predictions)"
   ]
  },
  {
   "cell_type": "code",
   "execution_count": 20,
   "id": "33f8358e",
   "metadata": {},
   "outputs": [
    {
     "name": "stdout",
     "output_type": "stream",
     "text": [
      "[2]\n"
     ]
    }
   ],
   "source": [
    "# 使用小畫家，寫0~9，實際測試看看\n",
    "from skimage import io\n",
    "from skimage.transform import resize\n",
    "import numpy as np\n",
    "\n",
    "uploaded_file = './digit7.png'\n",
    "image1 = io.imread(uploaded_file, as_gray=True)\n",
    "#image1 = Image.open(uploaded_file).convert('LA')\n",
    "image_resized = resize(image1, (28, 28), anti_aliasing=True)    \n",
    "X2 = image_resized.reshape(1,28, 28) #/ 255\n",
    "# 反轉顏色\n",
    "# 顏色0為白色，與RGB顏色不同，(0,0,0) 為黑色。\n",
    "X2 = np.abs(1-X2)\n",
    "predictions = model.predict_classes(X2)\n",
    "print(predictions)"
   ]
  },
  {
   "cell_type": "code",
   "execution_count": 18,
   "id": "f9c142c2",
   "metadata": {},
   "outputs": [
    {
     "data": {
      "image/png": "[encoded data removed]",
      "text/plain": [
       "<Figure size 432x288 with 1 Axes>"
      ]
     },
     "metadata": {
      "needs_background": "light"
     },
     "output_type": "display_data"
    }
   ],
   "source": [
    "plt.imshow(X1.reshape(28,28))\n",
    "plt.show() "
   ]
  },
  {
   "cell_type": "code",
   "execution_count": 21,
   "id": "1a426395",
   "metadata": {},
   "outputs": [
    {
     "data": {
      "image/png": "[encoded data removed]",
      "text/plain": [
       "<Figure size 432x288 with 1 Axes>"
      ]
     },
     "metadata": {
      "needs_background": "light"
     },
     "output_type": "display_data"
    }
   ],
   "source": [
    "plt.imshow(X2.reshape(28,28))\n",
    "plt.show() "
   ]
  },
  {
   "cell_type": "markdown",
   "id": "745ce8ab",
   "metadata": {},
   "source": [
    "參考資料:\n",
    "https://ithelp.ithome.com.tw/articles/10233758\n",
    "利用opencv對小畫家的圖做轉換\n",
    "https://github.com/jessica-anyen/nn_practice/commit/c84a0e802d45e5fb448b4004c60fbc018f0152fb"
   ]
  }
 ],
 "metadata": {
  "kernelspec": {
   "display_name": "Python 3 (ipykernel)",
   "language": "python",
   "name": "python3"
  },
  "language_info": {
   "codemirror_mode": {
    "name": "ipython",
    "version": 3
   },
   "file_extension": ".py",
   "mimetype": "text/x-python",
   "name": "python",
   "nbconvert_exporter": "python",
   "pygments_lexer": "ipython3",
   "version": "3.7.4"
  }
 },
 "nbformat": 4,
 "nbformat_minor": 5
}
